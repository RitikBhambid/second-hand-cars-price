{
 "cells": [
  {
   "cell_type": "code",
   "execution_count": 1,
   "id": "db38a9bf",
   "metadata": {},
   "outputs": [],
   "source": [
    "#Importing libraries\n",
    "import os                                                #getting access to input files\n",
    "import pandas as pd                                      #Importing pandas for performing EDA\n",
    "import numpy as np                                       #Importing numpy for Linear Algebric operations\n",
    "import matplotlib.pyplot as plt                          #Importing for Data Visualization\n",
    "import seaborn as sns                                    #Importing for Data Visualization\n",
    "from collections import Counter                          #sub-class available in dictonary class    \n",
    "from sklearn.tree import DecisionTreeRegressor           #Algorithm model\n",
    "from sklearn.ensemble import RandomForestRegressor       #Algorithm model\n",
    "from sklearn.ensemble import GradientBoostingRegressor   #Algorithm model\n",
    "from xgboost import XGBRegressor                         #Algorithm model\n",
    "from sklearn.preprocessing import StandardScaler         #Data tranformation\n",
    "from sklearn.linear_model import LinearRegression,ElasticNet,ElasticNetCV        #ML algorithm\n",
    "from sklearn.model_selection import train_test_split     #splitting dataset\n",
    "from sklearn.metrics import mean_squared_error           #MSE calculation\n",
    "from sklearn.metrics import r2_score                     # r2 score calculation\n",
    "from pprint import pprint                                # more formated and readable way\n",
    "from sklearn.model_selection import GridSearchCV ,RandomizedSearchCV        # model fit purpose \n",
    "import pickle                                            #save model\n",
    "from termcolor import colored                            #text formating\n",
    "import warnings\n",
    "warnings.filterwarnings('ignore')\n",
    "\n",
    "%matplotlib inline      "
   ]
  },
  {
   "cell_type": "code",
   "execution_count": 2,
   "id": "edd55363",
   "metadata": {},
   "outputs": [],
   "source": [
    "#Data Injection\n",
    "df = pd.read_csv(\"car data.csv\")\n"
   ]
  },
  {
   "cell_type": "code",
   "execution_count": 3,
   "id": "3763984a",
   "metadata": {},
   "outputs": [
    {
     "data": {
      "text/html": [
       "<div>\n",
       "<style scoped>\n",
       "    .dataframe tbody tr th:only-of-type {\n",
       "        vertical-align: middle;\n",
       "    }\n",
       "\n",
       "    .dataframe tbody tr th {\n",
       "        vertical-align: top;\n",
       "    }\n",
       "\n",
       "    .dataframe thead th {\n",
       "        text-align: right;\n",
       "    }\n",
       "</style>\n",
       "<table border=\"1\" class=\"dataframe\">\n",
       "  <thead>\n",
       "    <tr style=\"text-align: right;\">\n",
       "      <th></th>\n",
       "      <th>Car_Name</th>\n",
       "      <th>Year</th>\n",
       "      <th>Selling_Price</th>\n",
       "      <th>Present_Price</th>\n",
       "      <th>Kms_Driven</th>\n",
       "      <th>Fuel_Type</th>\n",
       "      <th>Seller_Type</th>\n",
       "      <th>Transmission</th>\n",
       "      <th>Owner</th>\n",
       "    </tr>\n",
       "  </thead>\n",
       "  <tbody>\n",
       "    <tr>\n",
       "      <th>0</th>\n",
       "      <td>ritz</td>\n",
       "      <td>2014</td>\n",
       "      <td>3.35</td>\n",
       "      <td>5.59</td>\n",
       "      <td>27000</td>\n",
       "      <td>Petrol</td>\n",
       "      <td>Dealer</td>\n",
       "      <td>Manual</td>\n",
       "      <td>0</td>\n",
       "    </tr>\n",
       "    <tr>\n",
       "      <th>1</th>\n",
       "      <td>sx4</td>\n",
       "      <td>2013</td>\n",
       "      <td>4.75</td>\n",
       "      <td>9.54</td>\n",
       "      <td>43000</td>\n",
       "      <td>Diesel</td>\n",
       "      <td>Dealer</td>\n",
       "      <td>Manual</td>\n",
       "      <td>0</td>\n",
       "    </tr>\n",
       "    <tr>\n",
       "      <th>2</th>\n",
       "      <td>ciaz</td>\n",
       "      <td>2017</td>\n",
       "      <td>7.25</td>\n",
       "      <td>9.85</td>\n",
       "      <td>6900</td>\n",
       "      <td>Petrol</td>\n",
       "      <td>Dealer</td>\n",
       "      <td>Manual</td>\n",
       "      <td>0</td>\n",
       "    </tr>\n",
       "    <tr>\n",
       "      <th>3</th>\n",
       "      <td>wagon r</td>\n",
       "      <td>2011</td>\n",
       "      <td>2.85</td>\n",
       "      <td>4.15</td>\n",
       "      <td>5200</td>\n",
       "      <td>Petrol</td>\n",
       "      <td>Dealer</td>\n",
       "      <td>Manual</td>\n",
       "      <td>0</td>\n",
       "    </tr>\n",
       "    <tr>\n",
       "      <th>4</th>\n",
       "      <td>swift</td>\n",
       "      <td>2014</td>\n",
       "      <td>4.60</td>\n",
       "      <td>6.87</td>\n",
       "      <td>42450</td>\n",
       "      <td>Diesel</td>\n",
       "      <td>Dealer</td>\n",
       "      <td>Manual</td>\n",
       "      <td>0</td>\n",
       "    </tr>\n",
       "  </tbody>\n",
       "</table>\n",
       "</div>"
      ],
      "text/plain": [
       "  Car_Name  Year  Selling_Price  Present_Price  Kms_Driven Fuel_Type  \\\n",
       "0     ritz  2014           3.35           5.59       27000    Petrol   \n",
       "1      sx4  2013           4.75           9.54       43000    Diesel   \n",
       "2     ciaz  2017           7.25           9.85        6900    Petrol   \n",
       "3  wagon r  2011           2.85           4.15        5200    Petrol   \n",
       "4    swift  2014           4.60           6.87       42450    Diesel   \n",
       "\n",
       "  Seller_Type Transmission  Owner  \n",
       "0      Dealer       Manual      0  \n",
       "1      Dealer       Manual      0  \n",
       "2      Dealer       Manual      0  \n",
       "3      Dealer       Manual      0  \n",
       "4      Dealer       Manual      0  "
      ]
     },
     "execution_count": 3,
     "metadata": {},
     "output_type": "execute_result"
    }
   ],
   "source": [
    "df.head()"
   ]
  },
  {
   "cell_type": "code",
   "execution_count": 4,
   "id": "c66d85c2",
   "metadata": {},
   "outputs": [
    {
     "data": {
      "text/plain": [
       "Car_Name          object\n",
       "Year               int64\n",
       "Selling_Price    float64\n",
       "Present_Price    float64\n",
       "Kms_Driven         int64\n",
       "Fuel_Type         object\n",
       "Seller_Type       object\n",
       "Transmission      object\n",
       "Owner              int64\n",
       "dtype: object"
      ]
     },
     "execution_count": 4,
     "metadata": {},
     "output_type": "execute_result"
    }
   ],
   "source": [
    "df.dtypes"
   ]
  },
  {
   "cell_type": "code",
   "execution_count": 5,
   "id": "d472a8e3",
   "metadata": {},
   "outputs": [
    {
     "name": "stdout",
     "output_type": "stream",
     "text": [
      "We have (301,) entries \n"
     ]
    }
   ],
   "source": [
    "#find number of data \n",
    "print(\"We have {} entries \".format(df.shape[:1]))    \n"
   ]
  },
  {
   "cell_type": "code",
   "execution_count": 6,
   "id": "20f51dc6",
   "metadata": {},
   "outputs": [
    {
     "data": {
      "text/plain": [
       "array(['ritz', 'sx4', 'ciaz', 'wagon r', 'swift', 'vitara brezza',\n",
       "       's cross', 'alto 800', 'ertiga', 'dzire', 'alto k10', 'ignis',\n",
       "       '800', 'baleno', 'omni', 'fortuner', 'innova', 'corolla altis',\n",
       "       'etios cross', 'etios g', 'etios liva', 'corolla', 'etios gd',\n",
       "       'camry', 'land cruiser', 'Royal Enfield Thunder 500',\n",
       "       'UM Renegade Mojave', 'KTM RC200', 'Bajaj Dominar 400',\n",
       "       'Royal Enfield Classic 350', 'KTM RC390', 'Hyosung GT250R',\n",
       "       'Royal Enfield Thunder 350', 'KTM 390 Duke ',\n",
       "       'Mahindra Mojo XT300', 'Bajaj Pulsar RS200',\n",
       "       'Royal Enfield Bullet 350', 'Royal Enfield Classic 500',\n",
       "       'Bajaj Avenger 220', 'Bajaj Avenger 150', 'Honda CB Hornet 160R',\n",
       "       'Yamaha FZ S V 2.0', 'Yamaha FZ 16', 'TVS Apache RTR 160',\n",
       "       'Bajaj Pulsar 150', 'Honda CBR 150', 'Hero Extreme',\n",
       "       'Bajaj Avenger 220 dtsi', 'Bajaj Avenger 150 street',\n",
       "       'Yamaha FZ  v 2.0', 'Bajaj Pulsar  NS 200', 'Bajaj Pulsar 220 F',\n",
       "       'TVS Apache RTR 180', 'Hero Passion X pro', 'Bajaj Pulsar NS 200',\n",
       "       'Yamaha Fazer ', 'Honda Activa 4G', 'TVS Sport ',\n",
       "       'Honda Dream Yuga ', 'Bajaj Avenger Street 220',\n",
       "       'Hero Splender iSmart', 'Activa 3g', 'Hero Passion Pro',\n",
       "       'Honda CB Trigger', 'Yamaha FZ S ', 'Bajaj Pulsar 135 LS',\n",
       "       'Activa 4g', 'Honda CB Unicorn', 'Hero Honda CBZ extreme',\n",
       "       'Honda Karizma', 'Honda Activa 125', 'TVS Jupyter',\n",
       "       'Hero Honda Passion Pro', 'Hero Splender Plus', 'Honda CB Shine',\n",
       "       'Bajaj Discover 100', 'Suzuki Access 125', 'TVS Wego',\n",
       "       'Honda CB twister', 'Hero Glamour', 'Hero Super Splendor',\n",
       "       'Bajaj Discover 125', 'Hero Hunk', 'Hero  Ignitor Disc',\n",
       "       'Hero  CBZ Xtreme', 'Bajaj  ct 100', 'i20', 'grand i10', 'i10',\n",
       "       'eon', 'xcent', 'elantra', 'creta', 'verna', 'city', 'brio',\n",
       "       'amaze', 'jazz'], dtype=object)"
      ]
     },
     "execution_count": 6,
     "metadata": {},
     "output_type": "execute_result"
    }
   ],
   "source": [
    "df.Car_Name.unique()                      "
   ]
  },
  {
   "cell_type": "code",
   "execution_count": 7,
   "id": "eb296231",
   "metadata": {},
   "outputs": [
    {
     "data": {
      "text/html": [
       "<div>\n",
       "<style scoped>\n",
       "    .dataframe tbody tr th:only-of-type {\n",
       "        vertical-align: middle;\n",
       "    }\n",
       "\n",
       "    .dataframe tbody tr th {\n",
       "        vertical-align: top;\n",
       "    }\n",
       "\n",
       "    .dataframe thead th {\n",
       "        text-align: right;\n",
       "    }\n",
       "</style>\n",
       "<table border=\"1\" class=\"dataframe\">\n",
       "  <thead>\n",
       "    <tr style=\"text-align: right;\">\n",
       "      <th></th>\n",
       "      <th>Year</th>\n",
       "      <th>Selling_Price</th>\n",
       "      <th>Present_Price</th>\n",
       "      <th>Kms_Driven</th>\n",
       "      <th>Fuel_Type</th>\n",
       "      <th>Seller_Type</th>\n",
       "      <th>Transmission</th>\n",
       "      <th>Owner</th>\n",
       "    </tr>\n",
       "  </thead>\n",
       "  <tbody>\n",
       "    <tr>\n",
       "      <th>0</th>\n",
       "      <td>2014</td>\n",
       "      <td>3.35</td>\n",
       "      <td>5.59</td>\n",
       "      <td>27000</td>\n",
       "      <td>Petrol</td>\n",
       "      <td>Dealer</td>\n",
       "      <td>Manual</td>\n",
       "      <td>0</td>\n",
       "    </tr>\n",
       "    <tr>\n",
       "      <th>1</th>\n",
       "      <td>2013</td>\n",
       "      <td>4.75</td>\n",
       "      <td>9.54</td>\n",
       "      <td>43000</td>\n",
       "      <td>Diesel</td>\n",
       "      <td>Dealer</td>\n",
       "      <td>Manual</td>\n",
       "      <td>0</td>\n",
       "    </tr>\n",
       "    <tr>\n",
       "      <th>2</th>\n",
       "      <td>2017</td>\n",
       "      <td>7.25</td>\n",
       "      <td>9.85</td>\n",
       "      <td>6900</td>\n",
       "      <td>Petrol</td>\n",
       "      <td>Dealer</td>\n",
       "      <td>Manual</td>\n",
       "      <td>0</td>\n",
       "    </tr>\n",
       "    <tr>\n",
       "      <th>3</th>\n",
       "      <td>2011</td>\n",
       "      <td>2.85</td>\n",
       "      <td>4.15</td>\n",
       "      <td>5200</td>\n",
       "      <td>Petrol</td>\n",
       "      <td>Dealer</td>\n",
       "      <td>Manual</td>\n",
       "      <td>0</td>\n",
       "    </tr>\n",
       "    <tr>\n",
       "      <th>4</th>\n",
       "      <td>2014</td>\n",
       "      <td>4.60</td>\n",
       "      <td>6.87</td>\n",
       "      <td>42450</td>\n",
       "      <td>Diesel</td>\n",
       "      <td>Dealer</td>\n",
       "      <td>Manual</td>\n",
       "      <td>0</td>\n",
       "    </tr>\n",
       "  </tbody>\n",
       "</table>\n",
       "</div>"
      ],
      "text/plain": [
       "   Year  Selling_Price  Present_Price  Kms_Driven Fuel_Type Seller_Type  \\\n",
       "0  2014           3.35           5.59       27000    Petrol      Dealer   \n",
       "1  2013           4.75           9.54       43000    Diesel      Dealer   \n",
       "2  2017           7.25           9.85        6900    Petrol      Dealer   \n",
       "3  2011           2.85           4.15        5200    Petrol      Dealer   \n",
       "4  2014           4.60           6.87       42450    Diesel      Dealer   \n",
       "\n",
       "  Transmission  Owner  \n",
       "0       Manual      0  \n",
       "1       Manual      0  \n",
       "2       Manual      0  \n",
       "3       Manual      0  \n",
       "4       Manual      0  "
      ]
     },
     "execution_count": 7,
     "metadata": {},
     "output_type": "execute_result"
    }
   ],
   "source": [
    "#Car_name feture not give any type of ioformation this column we are drop\n",
    "df.drop(['Car_Name'],axis=1,inplace=True)\n",
    "df.head()"
   ]
  },
  {
   "cell_type": "code",
   "execution_count": 8,
   "id": "7b85885f",
   "metadata": {},
   "outputs": [
    {
     "data": {
      "text/plain": [
       "Year             0\n",
       "Selling_Price    0\n",
       "Present_Price    0\n",
       "Kms_Driven       0\n",
       "Fuel_Type        0\n",
       "Seller_Type      0\n",
       "Transmission     0\n",
       "Owner            0\n",
       "dtype: int64"
      ]
     },
     "execution_count": 8,
     "metadata": {},
     "output_type": "execute_result"
    }
   ],
   "source": [
    "#check dataset have null velues or not\n",
    "df.isnull().sum()   \n"
   ]
  },
  {
   "cell_type": "code",
   "execution_count": 9,
   "id": "872922db",
   "metadata": {},
   "outputs": [
    {
     "data": {
      "text/plain": [
       "0"
      ]
     },
     "execution_count": 9,
     "metadata": {},
     "output_type": "execute_result"
    }
   ],
   "source": [
    "#check have zeros or not\n",
    "cal = df.drop(['Owner'],axis=True)           \n",
    "(cal == 0).sum().sum()"
   ]
  },
  {
   "cell_type": "code",
   "execution_count": 10,
   "id": "87624877",
   "metadata": {},
   "outputs": [
    {
     "name": "stdout",
     "output_type": "stream",
     "text": [
      "Fuel_Type =  ['Petrol' 'Diesel' 'CNG']\n",
      "----------------------------------------\n",
      "Seller_Type =  ['Dealer' 'Individual']\n",
      "----------------------------------------\n",
      "Transmission =  ['Manual' 'Automatic']\n",
      "\n",
      "\u001b[1m\u001b[31mThis is object type columns and vaues \u001b[0m\n"
     ]
    }
   ],
   "source": [
    "#for convert data into num format we are going to check how many types of  unique values in columns\n",
    "\n",
    "print('Fuel_Type = ',df['Fuel_Type'].unique())\n",
    "print(\"-\"*40)\n",
    "print('Seller_Type = ',df['Seller_Type'].unique())\n",
    "print(\"-\"*40)\n",
    "print('Transmission = ',df['Transmission'].unique())\n",
    "print('')\n",
    "\n",
    "print(colored('This is object type columns and vaues ','red', attrs=['bold']))"
   ]
  },
  {
   "cell_type": "code",
   "execution_count": 11,
   "id": "131470da",
   "metadata": {},
   "outputs": [],
   "source": [
    "#conver object type to numeric\n",
    "df.Fuel_Type = df.Fuel_Type.map({'Petrol':1,'Diesel':2,'CNG':3})\n",
    "\n",
    "df.Seller_Type = df.Seller_Type.map({'Dealer':1,'Individual':2})\n",
    "\n",
    "df.Transmission = df.Transmission.map({'Manual':1,'Automatic':2})"
   ]
  },
  {
   "cell_type": "code",
   "execution_count": 12,
   "id": "913c29bb",
   "metadata": {},
   "outputs": [
    {
     "data": {
      "text/html": [
       "<div>\n",
       "<style scoped>\n",
       "    .dataframe tbody tr th:only-of-type {\n",
       "        vertical-align: middle;\n",
       "    }\n",
       "\n",
       "    .dataframe tbody tr th {\n",
       "        vertical-align: top;\n",
       "    }\n",
       "\n",
       "    .dataframe thead th {\n",
       "        text-align: right;\n",
       "    }\n",
       "</style>\n",
       "<table border=\"1\" class=\"dataframe\">\n",
       "  <thead>\n",
       "    <tr style=\"text-align: right;\">\n",
       "      <th></th>\n",
       "      <th>Year</th>\n",
       "      <th>Selling_Price</th>\n",
       "      <th>Present_Price</th>\n",
       "      <th>Kms_Driven</th>\n",
       "      <th>Fuel_Type</th>\n",
       "      <th>Seller_Type</th>\n",
       "      <th>Transmission</th>\n",
       "      <th>Owner</th>\n",
       "    </tr>\n",
       "  </thead>\n",
       "  <tbody>\n",
       "    <tr>\n",
       "      <th>0</th>\n",
       "      <td>2014</td>\n",
       "      <td>3.35</td>\n",
       "      <td>5.59</td>\n",
       "      <td>27000</td>\n",
       "      <td>1</td>\n",
       "      <td>1</td>\n",
       "      <td>1</td>\n",
       "      <td>0</td>\n",
       "    </tr>\n",
       "    <tr>\n",
       "      <th>1</th>\n",
       "      <td>2013</td>\n",
       "      <td>4.75</td>\n",
       "      <td>9.54</td>\n",
       "      <td>43000</td>\n",
       "      <td>2</td>\n",
       "      <td>1</td>\n",
       "      <td>1</td>\n",
       "      <td>0</td>\n",
       "    </tr>\n",
       "    <tr>\n",
       "      <th>2</th>\n",
       "      <td>2017</td>\n",
       "      <td>7.25</td>\n",
       "      <td>9.85</td>\n",
       "      <td>6900</td>\n",
       "      <td>1</td>\n",
       "      <td>1</td>\n",
       "      <td>1</td>\n",
       "      <td>0</td>\n",
       "    </tr>\n",
       "    <tr>\n",
       "      <th>3</th>\n",
       "      <td>2011</td>\n",
       "      <td>2.85</td>\n",
       "      <td>4.15</td>\n",
       "      <td>5200</td>\n",
       "      <td>1</td>\n",
       "      <td>1</td>\n",
       "      <td>1</td>\n",
       "      <td>0</td>\n",
       "    </tr>\n",
       "    <tr>\n",
       "      <th>4</th>\n",
       "      <td>2014</td>\n",
       "      <td>4.60</td>\n",
       "      <td>6.87</td>\n",
       "      <td>42450</td>\n",
       "      <td>2</td>\n",
       "      <td>1</td>\n",
       "      <td>1</td>\n",
       "      <td>0</td>\n",
       "    </tr>\n",
       "  </tbody>\n",
       "</table>\n",
       "</div>"
      ],
      "text/plain": [
       "   Year  Selling_Price  Present_Price  Kms_Driven  Fuel_Type  Seller_Type  \\\n",
       "0  2014           3.35           5.59       27000          1            1   \n",
       "1  2013           4.75           9.54       43000          2            1   \n",
       "2  2017           7.25           9.85        6900          1            1   \n",
       "3  2011           2.85           4.15        5200          1            1   \n",
       "4  2014           4.60           6.87       42450          2            1   \n",
       "\n",
       "   Transmission  Owner  \n",
       "0             1      0  \n",
       "1             1      0  \n",
       "2             1      0  \n",
       "3             1      0  \n",
       "4             1      0  "
      ]
     },
     "execution_count": 12,
     "metadata": {},
     "output_type": "execute_result"
    }
   ],
   "source": [
    "df.head()"
   ]
  },
  {
   "cell_type": "code",
   "execution_count": 13,
   "id": "5d98b793",
   "metadata": {},
   "outputs": [
    {
     "name": "stdout",
     "output_type": "stream",
     "text": [
      "<class 'pandas.core.frame.DataFrame'>\n",
      "RangeIndex: 301 entries, 0 to 300\n",
      "Data columns (total 8 columns):\n",
      " #   Column         Non-Null Count  Dtype  \n",
      "---  ------         --------------  -----  \n",
      " 0   Year           301 non-null    int64  \n",
      " 1   Selling_Price  301 non-null    float64\n",
      " 2   Present_Price  301 non-null    float64\n",
      " 3   Kms_Driven     301 non-null    int64  \n",
      " 4   Fuel_Type      301 non-null    int64  \n",
      " 5   Seller_Type    301 non-null    int64  \n",
      " 6   Transmission   301 non-null    int64  \n",
      " 7   Owner          301 non-null    int64  \n",
      "dtypes: float64(2), int64(6)\n",
      "memory usage: 18.9 KB\n"
     ]
    }
   ],
   "source": [
    "df.info()"
   ]
  },
  {
   "cell_type": "code",
   "execution_count": 14,
   "id": "cce331bc",
   "metadata": {},
   "outputs": [
    {
     "data": {
      "text/html": [
       "<div>\n",
       "<style scoped>\n",
       "    .dataframe tbody tr th:only-of-type {\n",
       "        vertical-align: middle;\n",
       "    }\n",
       "\n",
       "    .dataframe tbody tr th {\n",
       "        vertical-align: top;\n",
       "    }\n",
       "\n",
       "    .dataframe thead th {\n",
       "        text-align: right;\n",
       "    }\n",
       "</style>\n",
       "<table border=\"1\" class=\"dataframe\">\n",
       "  <thead>\n",
       "    <tr style=\"text-align: right;\">\n",
       "      <th></th>\n",
       "      <th>Year</th>\n",
       "      <th>Selling_Price</th>\n",
       "      <th>Present_Price</th>\n",
       "      <th>Kms_Driven</th>\n",
       "      <th>Fuel_Type</th>\n",
       "      <th>Seller_Type</th>\n",
       "      <th>Transmission</th>\n",
       "      <th>Owner</th>\n",
       "    </tr>\n",
       "  </thead>\n",
       "  <tbody>\n",
       "    <tr>\n",
       "      <th>count</th>\n",
       "      <td>301.000000</td>\n",
       "      <td>301.000000</td>\n",
       "      <td>301.000000</td>\n",
       "      <td>301.000000</td>\n",
       "      <td>301.000000</td>\n",
       "      <td>301.000000</td>\n",
       "      <td>301.000000</td>\n",
       "      <td>301.000000</td>\n",
       "    </tr>\n",
       "    <tr>\n",
       "      <th>mean</th>\n",
       "      <td>2013.627907</td>\n",
       "      <td>4.661296</td>\n",
       "      <td>7.628472</td>\n",
       "      <td>36947.205980</td>\n",
       "      <td>1.212625</td>\n",
       "      <td>1.352159</td>\n",
       "      <td>1.132890</td>\n",
       "      <td>0.043189</td>\n",
       "    </tr>\n",
       "    <tr>\n",
       "      <th>std</th>\n",
       "      <td>2.891554</td>\n",
       "      <td>5.082812</td>\n",
       "      <td>8.644115</td>\n",
       "      <td>38886.883882</td>\n",
       "      <td>0.425801</td>\n",
       "      <td>0.478439</td>\n",
       "      <td>0.340021</td>\n",
       "      <td>0.247915</td>\n",
       "    </tr>\n",
       "    <tr>\n",
       "      <th>min</th>\n",
       "      <td>2003.000000</td>\n",
       "      <td>0.100000</td>\n",
       "      <td>0.320000</td>\n",
       "      <td>500.000000</td>\n",
       "      <td>1.000000</td>\n",
       "      <td>1.000000</td>\n",
       "      <td>1.000000</td>\n",
       "      <td>0.000000</td>\n",
       "    </tr>\n",
       "    <tr>\n",
       "      <th>25%</th>\n",
       "      <td>2012.000000</td>\n",
       "      <td>0.900000</td>\n",
       "      <td>1.200000</td>\n",
       "      <td>15000.000000</td>\n",
       "      <td>1.000000</td>\n",
       "      <td>1.000000</td>\n",
       "      <td>1.000000</td>\n",
       "      <td>0.000000</td>\n",
       "    </tr>\n",
       "    <tr>\n",
       "      <th>50%</th>\n",
       "      <td>2014.000000</td>\n",
       "      <td>3.600000</td>\n",
       "      <td>6.400000</td>\n",
       "      <td>32000.000000</td>\n",
       "      <td>1.000000</td>\n",
       "      <td>1.000000</td>\n",
       "      <td>1.000000</td>\n",
       "      <td>0.000000</td>\n",
       "    </tr>\n",
       "    <tr>\n",
       "      <th>75%</th>\n",
       "      <td>2016.000000</td>\n",
       "      <td>6.000000</td>\n",
       "      <td>9.900000</td>\n",
       "      <td>48767.000000</td>\n",
       "      <td>1.000000</td>\n",
       "      <td>2.000000</td>\n",
       "      <td>1.000000</td>\n",
       "      <td>0.000000</td>\n",
       "    </tr>\n",
       "    <tr>\n",
       "      <th>max</th>\n",
       "      <td>2018.000000</td>\n",
       "      <td>35.000000</td>\n",
       "      <td>92.600000</td>\n",
       "      <td>500000.000000</td>\n",
       "      <td>3.000000</td>\n",
       "      <td>2.000000</td>\n",
       "      <td>2.000000</td>\n",
       "      <td>3.000000</td>\n",
       "    </tr>\n",
       "  </tbody>\n",
       "</table>\n",
       "</div>"
      ],
      "text/plain": [
       "              Year  Selling_Price  Present_Price     Kms_Driven   Fuel_Type  \\\n",
       "count   301.000000     301.000000     301.000000     301.000000  301.000000   \n",
       "mean   2013.627907       4.661296       7.628472   36947.205980    1.212625   \n",
       "std       2.891554       5.082812       8.644115   38886.883882    0.425801   \n",
       "min    2003.000000       0.100000       0.320000     500.000000    1.000000   \n",
       "25%    2012.000000       0.900000       1.200000   15000.000000    1.000000   \n",
       "50%    2014.000000       3.600000       6.400000   32000.000000    1.000000   \n",
       "75%    2016.000000       6.000000       9.900000   48767.000000    1.000000   \n",
       "max    2018.000000      35.000000      92.600000  500000.000000    3.000000   \n",
       "\n",
       "       Seller_Type  Transmission       Owner  \n",
       "count   301.000000    301.000000  301.000000  \n",
       "mean      1.352159      1.132890    0.043189  \n",
       "std       0.478439      0.340021    0.247915  \n",
       "min       1.000000      1.000000    0.000000  \n",
       "25%       1.000000      1.000000    0.000000  \n",
       "50%       1.000000      1.000000    0.000000  \n",
       "75%       2.000000      1.000000    0.000000  \n",
       "max       2.000000      2.000000    3.000000  "
      ]
     },
     "execution_count": 14,
     "metadata": {},
     "output_type": "execute_result"
    }
   ],
   "source": [
    "#check information about dataset\n",
    "df.describe()"
   ]
  },
  {
   "cell_type": "code",
   "execution_count": 15,
   "id": "407b6398",
   "metadata": {},
   "outputs": [
    {
     "data": {
      "image/png": "[encoded data removed]",
      "text/plain": [
       "<Figure size 1440x1800 with 8 Axes>"
      ]
     },
     "metadata": {},
     "output_type": "display_data"
    }
   ],
   "source": [
    "# let's see how data is distributed for every column\n",
    "plt.figure(figsize=(20,25), facecolor='white')\n",
    "plotnumber = 1\n",
    "\n",
    "for column in df:\n",
    "    if plotnumber<=16 :\n",
    "        ax = plt.subplot(4,4,plotnumber)\n",
    "        sns.distplot(df[column])\n",
    "        plt.xlabel(column,fontsize=20)\n",
    "    plotnumber+=1\n",
    "plt.tight_layout()"
   ]
  },
  {
   "cell_type": "code",
   "execution_count": 16,
   "id": "8073acfe",
   "metadata": {},
   "outputs": [
    {
     "data": {
      "text/plain": [
       "<AxesSubplot:>"
      ]
     },
     "execution_count": 16,
     "metadata": {},
     "output_type": "execute_result"
    },
    {
     "data": {
      "image/png": "[encoded data removed]",
      "text/plain": [
       "<Figure size 432x288 with 2 Axes>"
      ]
     },
     "metadata": {
      "needs_background": "light"
     },
     "output_type": "display_data"
    }
   ],
   "source": [
    "sns.heatmap(df.corr())"
   ]
  },
  {
   "cell_type": "code",
   "execution_count": 17,
   "id": "eaf4b196",
   "metadata": {},
   "outputs": [
    {
     "data": {
      "text/plain": [
       "<AxesSubplot:>"
      ]
     },
     "execution_count": 17,
     "metadata": {},
     "output_type": "execute_result"
    },
    {
     "data": {
      "image/png": "[encoded data removed]",
      "text/plain": [
       "<Figure size 720x720 with 1 Axes>"
      ]
     },
     "metadata": {},
     "output_type": "display_data"
    }
   ],
   "source": [
    "plt.figure(figsize=(10,10), facecolor='white')\n",
    "sns.boxplot(data=df)"
   ]
  },
  {
   "cell_type": "code",
   "execution_count": 18,
   "id": "a15a511e",
   "metadata": {},
   "outputs": [
    {
     "data": {
      "text/html": [
       "<div>\n",
       "<style scoped>\n",
       "    .dataframe tbody tr th:only-of-type {\n",
       "        vertical-align: middle;\n",
       "    }\n",
       "\n",
       "    .dataframe tbody tr th {\n",
       "        vertical-align: top;\n",
       "    }\n",
       "\n",
       "    .dataframe thead th {\n",
       "        text-align: right;\n",
       "    }\n",
       "</style>\n",
       "<table border=\"1\" class=\"dataframe\">\n",
       "  <thead>\n",
       "    <tr style=\"text-align: right;\">\n",
       "      <th></th>\n",
       "      <th>Year</th>\n",
       "      <th>Present_Price</th>\n",
       "      <th>Kms_Driven</th>\n",
       "      <th>Fuel_Type</th>\n",
       "      <th>Seller_Type</th>\n",
       "      <th>Transmission</th>\n",
       "      <th>Owner</th>\n",
       "    </tr>\n",
       "  </thead>\n",
       "  <tbody>\n",
       "    <tr>\n",
       "      <th>0</th>\n",
       "      <td>2014</td>\n",
       "      <td>5.59</td>\n",
       "      <td>27000</td>\n",
       "      <td>1</td>\n",
       "      <td>1</td>\n",
       "      <td>1</td>\n",
       "      <td>0</td>\n",
       "    </tr>\n",
       "    <tr>\n",
       "      <th>1</th>\n",
       "      <td>2013</td>\n",
       "      <td>9.54</td>\n",
       "      <td>43000</td>\n",
       "      <td>2</td>\n",
       "      <td>1</td>\n",
       "      <td>1</td>\n",
       "      <td>0</td>\n",
       "    </tr>\n",
       "    <tr>\n",
       "      <th>2</th>\n",
       "      <td>2017</td>\n",
       "      <td>9.85</td>\n",
       "      <td>6900</td>\n",
       "      <td>1</td>\n",
       "      <td>1</td>\n",
       "      <td>1</td>\n",
       "      <td>0</td>\n",
       "    </tr>\n",
       "    <tr>\n",
       "      <th>3</th>\n",
       "      <td>2011</td>\n",
       "      <td>4.15</td>\n",
       "      <td>5200</td>\n",
       "      <td>1</td>\n",
       "      <td>1</td>\n",
       "      <td>1</td>\n",
       "      <td>0</td>\n",
       "    </tr>\n",
       "    <tr>\n",
       "      <th>4</th>\n",
       "      <td>2014</td>\n",
       "      <td>6.87</td>\n",
       "      <td>42450</td>\n",
       "      <td>2</td>\n",
       "      <td>1</td>\n",
       "      <td>1</td>\n",
       "      <td>0</td>\n",
       "    </tr>\n",
       "  </tbody>\n",
       "</table>\n",
       "</div>"
      ],
      "text/plain": [
       "   Year  Present_Price  Kms_Driven  Fuel_Type  Seller_Type  Transmission  \\\n",
       "0  2014           5.59       27000          1            1             1   \n",
       "1  2013           9.54       43000          2            1             1   \n",
       "2  2017           9.85        6900          1            1             1   \n",
       "3  2011           4.15        5200          1            1             1   \n",
       "4  2014           6.87       42450          2            1             1   \n",
       "\n",
       "   Owner  \n",
       "0      0  \n",
       "1      0  \n",
       "2      0  \n",
       "3      0  \n",
       "4      0  "
      ]
     },
     "execution_count": 18,
     "metadata": {},
     "output_type": "execute_result"
    }
   ],
   "source": [
    "#separate features columns\n",
    "x=df.drop(['Selling_Price'],axis=1)\n",
    "x.head()"
   ]
  },
  {
   "cell_type": "code",
   "execution_count": null,
   "id": "48c98795",
   "metadata": {},
   "outputs": [],
   "source": []
  },
  {
   "cell_type": "code",
   "execution_count": 19,
   "id": "5207190e",
   "metadata": {},
   "outputs": [
    {
     "data": {
      "text/plain": [
       "0       3.35\n",
       "1       4.75\n",
       "2       7.25\n",
       "3       2.85\n",
       "4       4.60\n",
       "       ...  \n",
       "296     9.50\n",
       "297     4.00\n",
       "298     3.35\n",
       "299    11.50\n",
       "300     5.30\n",
       "Name: Selling_Price, Length: 301, dtype: float64"
      ]
     },
     "execution_count": 19,
     "metadata": {},
     "output_type": "execute_result"
    }
   ],
   "source": [
    "#separate target columns\n",
    "y=df['Selling_Price']\n",
    "y"
   ]
  },
  {
   "cell_type": "code",
   "execution_count": 20,
   "id": "5fdfd5de",
   "metadata": {},
   "outputs": [
    {
     "data": {
      "image/png": "[encoded data removed]",
      "text/plain": [
       "<Figure size 1440x2160 with 7 Axes>"
      ]
     },
     "metadata": {},
     "output_type": "display_data"
    }
   ],
   "source": [
    "plt.figure(figsize=(20,30), facecolor='white')\n",
    "plotnumber = 1\n",
    "\n",
    "for column in x:\n",
    "    if plotnumber<=15 :\n",
    "        ax = plt.subplot(5,3,plotnumber)\n",
    "        plt.scatter(x[column],y)\n",
    "        plt.xlabel(column,fontsize=20)\n",
    "        plt.ylabel('Selling_Price',fontsize=20)\n",
    "    plotnumber+=1\n",
    "plt.tight_layout()"
   ]
  },
  {
   "cell_type": "code",
   "execution_count": 21,
   "id": "50953836",
   "metadata": {},
   "outputs": [],
   "source": [
    "#Data transformation\n",
    "scaler =StandardScaler()\n",
    "x_scaled = scaler.fit_transform(x)"
   ]
  },
  {
   "cell_type": "code",
   "execution_count": 22,
   "id": "d7bf4c77",
   "metadata": {},
   "outputs": [
    {
     "data": {
      "image/png": "[encoded data removed]",
      "text/plain": [
       "<Figure size 1440x1800 with 7 Axes>"
      ]
     },
     "metadata": {},
     "output_type": "display_data"
    }
   ],
   "source": [
    "# let's see how data is distributed for every column\n",
    "plt.figure(figsize=(20,25), facecolor='white')\n",
    "plotnumber = 1\n",
    "new = pd.DataFrame(x_scaled).describe()\n",
    "for column in new:\n",
    "    if plotnumber<=16 :\n",
    "        ax = plt.subplot(4,4,plotnumber)\n",
    "        sns.distplot(new[column])\n",
    "        plt.xlabel(column,fontsize=20)\n",
    "    plotnumber+=1\n",
    "plt.tight_layout()"
   ]
  },
  {
   "cell_type": "code",
   "execution_count": null,
   "id": "0a98fcb9",
   "metadata": {},
   "outputs": [],
   "source": []
  },
  {
   "cell_type": "code",
   "execution_count": 23,
   "id": "0680fe03",
   "metadata": {},
   "outputs": [],
   "source": [
    "##train test split for further modelling\n",
    "x_train, x_test, y_train, y_test = train_test_split(x,y,test_size=.20,random_state=20)"
   ]
  },
  {
   "cell_type": "code",
   "execution_count": null,
   "id": "545f74c4",
   "metadata": {},
   "outputs": [],
   "source": []
  },
  {
   "cell_type": "code",
   "execution_count": 24,
   "id": "8981836c",
   "metadata": {},
   "outputs": [
    {
     "name": "stdout",
     "output_type": "stream",
     "text": [
      "Total =  (301, 8)\n",
      "--------------------\n",
      "x_train = (240, 7)\n",
      "--------------------\n",
      "x_test =  (61, 7)\n"
     ]
    }
   ],
   "source": [
    "#check data size\n",
    "print('Total = ',df.shape)\n",
    "print('-'*20)\n",
    "print('x_train =',x_train.shape)\n",
    "print('-'*20)\n",
    "print('x_test = ',x_test.shape)\n"
   ]
  },
  {
   "cell_type": "markdown",
   "id": "bf2ee6db",
   "metadata": {},
   "source": [
    "# Building model on top of training dataset"
   ]
  },
  {
   "cell_type": "markdown",
   "id": "44e48c09",
   "metadata": {},
   "source": [
    "**LINEAR REGRESSION**"
   ]
  },
  {
   "cell_type": "code",
   "execution_count": 25,
   "id": "c229345d",
   "metadata": {},
   "outputs": [
    {
     "name": "stdout",
     "output_type": "stream",
     "text": [
      "R2_Score for known data =  0.8670919068645734\n",
      "------------------------------------------------------------------------------------\n",
      "R2_Score for unknown data =  0.919748320959068\n"
     ]
    }
   ],
   "source": [
    "fit_LR = LinearRegression()\n",
    "fit_LR.fit(x_train , y_train)\n",
    "#prediction on train data\n",
    "pred_train_LR = fit_LR.predict(x_train)\n",
    "\n",
    "#prediction on test data\n",
    "pred_test_LR = fit_LR.predict(x_test)\n",
    "\n",
    "#calculate R^2 for train data\n",
    "r2_train_lr = r2_score(y_train, pred_train_LR)\n",
    "r2_test_lr = r2_score(y_test, pred_test_LR)\n",
    "\n",
    "\n",
    "\n",
    "\n",
    "print(\"R2_Score for known data = \",r2_train_lr)\n",
    "print('------------------------------------------------------------------------------------')\n",
    "print(\"R2_Score for unknown data = \",r2_test_lr)\n",
    "\n",
    "\n"
   ]
  },
  {
   "cell_type": "markdown",
   "id": "a53dc629",
   "metadata": {},
   "source": [
    "**XG BOOST**"
   ]
  },
  {
   "cell_type": "code",
   "execution_count": 26,
   "id": "6dfef2b0",
   "metadata": {},
   "outputs": [
    {
     "name": "stdout",
     "output_type": "stream",
     "text": [
      "R2_Score for known data =  0.9999945035528602\n",
      "------------------------------------------------------------------------------------\n",
      "R2_Score for unknown data =  0.9733668211079787\n"
     ]
    }
   ],
   "source": [
    "XGBR =  XGBRegressor(random_state=20)\n",
    "XGBR.fit(x_train,y_train)\n",
    "#prediction on train data\n",
    "pred_train_XGB = XGBR.predict(x_train)\n",
    "\n",
    "#prediction on test data\n",
    "pred_test_XGB = XGBR.predict(x_test)\n",
    "\n",
    "#calculate R^2 for train data\n",
    "r2_train_xg = r2_score(y_train,pred_train_XGB)\n",
    "r2_test_xg = r2_score(y_test,pred_test_XGB)\n",
    "\n",
    "\n",
    "print(\"R2_Score for known data = \",r2_train_xg)\n",
    "print('------------------------------------------------------------------------------------')\n",
    "print(\"R2_Score for unknown data = \",r2_test_xg)\n",
    "\n"
   ]
  },
  {
   "cell_type": "markdown",
   "id": "66f45d24",
   "metadata": {},
   "source": [
    "**RANDOM FOREST**"
   ]
  },
  {
   "cell_type": "code",
   "execution_count": 27,
   "id": "e07f3b8f",
   "metadata": {},
   "outputs": [
    {
     "name": "stdout",
     "output_type": "stream",
     "text": [
      "R2_Score for known data =  0.9852110639273481\n",
      "------------------------------------------------------------------------------------\n",
      "R2_Score for unknown data =  0.9712816145169431\n"
     ]
    }
   ],
   "source": [
    "fit_RF = RandomForestRegressor(random_state=20)\n",
    "fit_RF.fit(x_train,y_train)\n",
    "#prediction on train data\n",
    "pred_train_RF = fit_RF.predict(x_train)\n",
    "\n",
    "#prediction on test data\n",
    "pred_test_RF = fit_RF.predict(x_test)\n",
    "\n",
    "## calculate R^2 for train data\n",
    "r2_train_rf = r2_score(y_train,pred_train_RF)\n",
    "r2_test_rf = r2_score(y_test,pred_test_RF)\n",
    "\n",
    "\n",
    "\n",
    "print(\"R2_Score for known data = \",r2_train_rf)\n",
    "print('------------------------------------------------------------------------------------')\n",
    "print(\"R2_Score for unknown data = \",r2_test_rf)\n",
    "\n"
   ]
  },
  {
   "cell_type": "markdown",
   "id": "24461fb8",
   "metadata": {},
   "source": [
    "**ELASTIC NET**"
   ]
  },
  {
   "cell_type": "code",
   "execution_count": 28,
   "id": "915fd437",
   "metadata": {},
   "outputs": [
    {
     "name": "stdout",
     "output_type": "stream",
     "text": [
      "10.692718424999995\n",
      "0.5\n"
     ]
    }
   ],
   "source": [
    "# Elastic net\n",
    "elasticCV = ElasticNetCV(alphas = None, cv =10)\n",
    "elasticCV.fit(x_train, y_train)\n",
    "\n",
    "print(elasticCV.alpha_)\n",
    "print(elasticCV.l1_ratio)"
   ]
  },
  {
   "cell_type": "code",
   "execution_count": 29,
   "id": "a4745a8f",
   "metadata": {},
   "outputs": [
    {
     "name": "stdout",
     "output_type": "stream",
     "text": [
      "R2_Score for known data =  0.7503442603743535\n",
      "------------------------------------------------------------------------------------\n",
      "R2_Score for unknown data =  0.7825766009091504\n"
     ]
    }
   ],
   "source": [
    "elasticnet_reg = ElasticNet(alpha = elasticCV.alpha_,l1_ratio=0.5)\n",
    "elasticnet_reg.fit(x_train, y_train)\n",
    "#prediction on train data\n",
    "pred_train_reg = elasticnet_reg.predict(x_train)\n",
    "\n",
    "#prediction on test data\n",
    "pred_test_reg = elasticnet_reg.predict(x_test)\n",
    "\n",
    "#calculate R^2 for train data\n",
    "r2_train_en = r2_score(y_train,pred_train_reg)\n",
    "r2_test_en =r2_score(y_test,pred_test_reg)\n",
    "\n",
    "\n",
    "\n",
    "print(\"R2_Score for known data = \",r2_train_en)\n",
    "print('------------------------------------------------------------------------------------')\n",
    "print(\"R2_Score for unknown data = \",r2_test_en)"
   ]
  },
  {
   "cell_type": "markdown",
   "id": "8cdea18e",
   "metadata": {},
   "source": [
    "# Hyper Parameter Optimization"
   ]
  },
  {
   "cell_type": "code",
   "execution_count": 30,
   "id": "b15d80b1",
   "metadata": {},
   "outputs": [],
   "source": [
    "rf = RandomForestRegressor()\n",
    "\n",
    "# Number of trees in Random forest\n",
    "n_estimators = [int(x) for x in np.linspace(start = 100, stop = 1200, num = 12)]\n",
    "\n",
    "# Maximum number of levels in a tree\n",
    "# max_depth = [int(x) for x in np.linspace(5, 30, num = 6)]\n",
    "\n",
    "# Minimum number of samples required to split an internal node\n",
    "min_samples_split = [2, 5, 10, 15, 100]\n",
    "\n",
    "# Minimum number of samples required to be at a leaf node.\n",
    "min_samples_leaf=list(range(1,9,2))\n",
    "\n",
    "# Number of fearures to be considered at each split\n",
    "max_features=['auto','sqrt']\n",
    "\n",
    "# Hyperparameters dict\n",
    "param_grid = {\"n_estimators\":n_estimators,\n",
    "#               \"max_depth\":max_depth,\n",
    "              \"min_samples_split\":min_samples_split,\n",
    "              \"min_samples_leaf\":min_samples_leaf,\n",
    "              \"max_features\":max_features}\n",
    "\n"
   ]
  },
  {
   "cell_type": "code",
   "execution_count": 31,
   "id": "c832b7cd",
   "metadata": {},
   "outputs": [],
   "source": [
    "#fit parametes inside the randomCV\n",
    "rf_random = RandomizedSearchCV(estimator = rf, param_distributions = param_grid ,scoring='neg_mean_squared_error', n_iter = 10, cv = 5, verbose=2, n_jobs = 1)"
   ]
  },
  {
   "cell_type": "code",
   "execution_count": 32,
   "id": "2a56b8dd",
   "metadata": {},
   "outputs": [],
   "source": [
    "#Train randomCV for find roberst parametes values \n",
    "# rf_random.fit(x_train,y_train)"
   ]
  },
  {
   "cell_type": "code",
   "execution_count": 33,
   "id": "2b99fdbd",
   "metadata": {},
   "outputs": [],
   "source": [
    "# rf_random.best_params_"
   ]
  },
  {
   "cell_type": "code",
   "execution_count": 34,
   "id": "2f3b0ffe",
   "metadata": {},
   "outputs": [],
   "source": [
    "# rf_random.best_score_"
   ]
  },
  {
   "cell_type": "code",
   "execution_count": 35,
   "id": "e2b8c405",
   "metadata": {},
   "outputs": [
    {
     "name": "stdout",
     "output_type": "stream",
     "text": [
      "R2_Score for known data =  0.979098279264452\n",
      "------------------------------------------------------------------------------------\n",
      "R2_Score for unknown data =  0.9722082993625647\n"
     ]
    }
   ],
   "source": [
    "rf_tune = RandomForestRegressor(n_estimators = 100,min_samples_split = 3,max_features='auto',min_samples_leaf = 1,random_state=77)\n",
    "rf_tune.fit(x_train,y_train)\n",
    "#prediction on train data\n",
    "pred_train_rf_tune = rf_tune.predict(x_train)\n",
    "\n",
    "#prediction on test data\n",
    "pred_test_rf_tune = rf_tune.predict(x_test)\n",
    "\n",
    "## calculate R^2 for train data\n",
    "r2_train_trf = r2_score(y_train,pred_train_rf_tune)\n",
    "r2_test_trf =r2_score(y_test,pred_test_rf_tune)\n",
    "\n",
    "\n",
    "\n",
    "\n",
    "\n",
    "print(\"R2_Score for known data = \",r2_train_trf)\n",
    "print('------------------------------------------------------------------------------------')\n",
    "print(\"R2_Score for unknown data = \",r2_test_trf)"
   ]
  },
  {
   "cell_type": "markdown",
   "id": "76c83448",
   "metadata": {},
   "source": [
    "# FOR XGB\n"
   ]
  },
  {
   "cell_type": "code",
   "execution_count": 36,
   "id": "6a8f2c59",
   "metadata": {},
   "outputs": [],
   "source": [
    "XGBRT =  XGBRegressor()\n",
    "## Hyper Parameter Optimization\n",
    "n_estimators=[10,20,30,40,50,100,200,250,300,360,400,450,500,600,650,700,800]\n",
    "max_depth=list(range(3,12))\n",
    "booster=['gbtree','gblinear']\n",
    "learning_rate=[0.05,0.1,0.15,0.20]\n",
    "min_child_weight=list(range(1,10))\n",
    "\n",
    "# Define the grid of hyperparameters to search\n",
    "grid = {\n",
    "    'n_estimators': n_estimators,\n",
    "    'max_depth':max_depth,\n",
    "    'learning_rate':learning_rate,\n",
    "    'min_child_weight':min_child_weight,\n",
    "    'booster':booster,\n",
    "    \n",
    "    }\n"
   ]
  },
  {
   "cell_type": "code",
   "execution_count": 37,
   "id": "8cf96de1",
   "metadata": {},
   "outputs": [],
   "source": [
    "#fit parametes inside the randomCV\n",
    "XGBRT_random = RandomizedSearchCV(estimator = XGBRT, param_distributions = grid ,scoring='neg_mean_squared_error', n_iter = 10, cv = 5, verbose=2, n_jobs = 1)"
   ]
  },
  {
   "cell_type": "code",
   "execution_count": 38,
   "id": "9ceb5db9",
   "metadata": {},
   "outputs": [],
   "source": [
    "# XGBRT_random.fit(x_train,y_train)"
   ]
  },
  {
   "cell_type": "code",
   "execution_count": 39,
   "id": "98d2defc",
   "metadata": {},
   "outputs": [],
   "source": [
    "# XGBRT_random.best_params_\n"
   ]
  },
  {
   "cell_type": "code",
   "execution_count": 40,
   "id": "8267a979",
   "metadata": {},
   "outputs": [
    {
     "name": "stdout",
     "output_type": "stream",
     "text": [
      "R2_Score for known data =  0.999983437021578\n",
      "------------------------------------------------------------------------------------\n",
      "R2_Score for unknown data =  0.9749384889545035\n"
     ]
    }
   ],
   "source": [
    "XGBRT =  XGBRegressor(n_estimators=300,min_child_weight=2,max_depth= 5,learning_rate=0.15,booster ='gbtree')\n",
    "XGBRT.fit(x_train,y_train)\n",
    "#prediction on train data\n",
    "pred_train_XGBRT = XGBRT.predict(x_train)\n",
    "\n",
    "#prediction on test data\n",
    "pred_test_XGBRT = XGBRT.predict(x_test)\n",
    "\n",
    "#calculate R^2 for train data\n",
    "r2_train_XGBRT = r2_score(y_train,pred_train_XGBRT)\n",
    "r2_test_XGBRT = r2_score(y_test,pred_test_XGBRT)\n",
    "\n",
    "\n",
    "print(\"R2_Score for known data = \",r2_train_XGBRT)\n",
    "print('------------------------------------------------------------------------------------')\n",
    "print(\"R2_Score for unknown data = \",r2_test_XGBRT)"
   ]
  },
  {
   "cell_type": "markdown",
   "id": "94fde045",
   "metadata": {
    "scrolled": true
   },
   "source": [
    "# Model performance"
   ]
  },
  {
   "cell_type": "code",
   "execution_count": 41,
   "id": "b96d70b4",
   "metadata": {},
   "outputs": [
    {
     "data": {
      "text/html": [
       "<div>\n",
       "<style scoped>\n",
       "    .dataframe tbody tr th:only-of-type {\n",
       "        vertical-align: middle;\n",
       "    }\n",
       "\n",
       "    .dataframe tbody tr th {\n",
       "        vertical-align: top;\n",
       "    }\n",
       "\n",
       "    .dataframe thead th {\n",
       "        text-align: right;\n",
       "    }\n",
       "</style>\n",
       "<table border=\"1\" class=\"dataframe\">\n",
       "  <thead>\n",
       "    <tr style=\"text-align: right;\">\n",
       "      <th></th>\n",
       "      <th>Technique</th>\n",
       "      <th>R2_train</th>\n",
       "      <th>R2_test</th>\n",
       "    </tr>\n",
       "  </thead>\n",
       "  <tbody>\n",
       "    <tr>\n",
       "      <th>0</th>\n",
       "      <td>LinearRegression</td>\n",
       "      <td>0.867092</td>\n",
       "      <td>0.919748</td>\n",
       "    </tr>\n",
       "    <tr>\n",
       "      <th>1</th>\n",
       "      <td>XGBoost</td>\n",
       "      <td>0.999995</td>\n",
       "      <td>0.973367</td>\n",
       "    </tr>\n",
       "    <tr>\n",
       "      <th>2</th>\n",
       "      <td>Tune_XGBoost</td>\n",
       "      <td>0.999983</td>\n",
       "      <td>0.974938</td>\n",
       "    </tr>\n",
       "    <tr>\n",
       "      <th>3</th>\n",
       "      <td>RandomForestRegressor</td>\n",
       "      <td>0.985211</td>\n",
       "      <td>0.971282</td>\n",
       "    </tr>\n",
       "    <tr>\n",
       "      <th>4</th>\n",
       "      <td>Tune_RandomForestRegressor</td>\n",
       "      <td>0.979098</td>\n",
       "      <td>0.972208</td>\n",
       "    </tr>\n",
       "    <tr>\n",
       "      <th>5</th>\n",
       "      <td>Elastic net</td>\n",
       "      <td>0.750344</td>\n",
       "      <td>0.782577</td>\n",
       "    </tr>\n",
       "  </tbody>\n",
       "</table>\n",
       "</div>"
      ],
      "text/plain": [
       "                    Technique  R2_train   R2_test\n",
       "0            LinearRegression  0.867092  0.919748\n",
       "1                     XGBoost  0.999995  0.973367\n",
       "2                Tune_XGBoost  0.999983  0.974938\n",
       "3       RandomForestRegressor  0.985211  0.971282\n",
       "4  Tune_RandomForestRegressor  0.979098  0.972208\n",
       "5                 Elastic net  0.750344  0.782577"
      ]
     },
     "execution_count": 41,
     "metadata": {},
     "output_type": "execute_result"
    }
   ],
   "source": [
    "pd.DataFrame({'Technique': {0: 'LinearRegression', 1: 'XGBoost',2: 'Tune_XGBoost' ,3: 'RandomForestRegressor', \n",
    "                            4: 'Tune_RandomForestRegressor' ,5:'Elastic net'}, \n",
    "              'R2_train': {0: r2_train_lr, 1: r2_train_xg , 2: r2_train_XGBRT, 3: r2_train_rf, 4: r2_train_trf,5 : r2_train_en}, 'R2_test': {0: r2_test_lr, 1: r2_test_xg , 2:r2_test_XGBRT, 3: r2_test_rf,\n",
    "                                                                                        4: r2_test_trf,5 : r2_test_en}})"
   ]
  },
  {
   "cell_type": "markdown",
   "id": "b4663964",
   "metadata": {},
   "source": [
    "Model save"
   ]
  },
  {
   "cell_type": "code",
   "execution_count": 42,
   "id": "a038620d",
   "metadata": {},
   "outputs": [],
   "source": [
    "import pickle\n",
    "# open a file\n",
    "filename = 'XGBRegressor.pickle'\n",
    "\n",
    "# dump information to that file\n",
    "pickle.dump(XGBRT, open(filename, 'wb'))\n",
    "\n"
   ]
  },
  {
   "cell_type": "markdown",
   "id": "205e901c",
   "metadata": {},
   "source": [
    "# Prediction using final  model"
   ]
  },
  {
   "cell_type": "code",
   "execution_count": 43,
   "id": "d90ba984",
   "metadata": {},
   "outputs": [],
   "source": [
    "# prediction using the saved model\n",
    "loaded_model = pickle.load(open(filename, 'rb'))"
   ]
  },
  {
   "cell_type": "code",
   "execution_count": 44,
   "id": "170a8572",
   "metadata": {},
   "outputs": [
    {
     "data": {
      "text/html": [
       "<div>\n",
       "<style scoped>\n",
       "    .dataframe tbody tr th:only-of-type {\n",
       "        vertical-align: middle;\n",
       "    }\n",
       "\n",
       "    .dataframe tbody tr th {\n",
       "        vertical-align: top;\n",
       "    }\n",
       "\n",
       "    .dataframe thead th {\n",
       "        text-align: right;\n",
       "    }\n",
       "</style>\n",
       "<table border=\"1\" class=\"dataframe\">\n",
       "  <thead>\n",
       "    <tr style=\"text-align: right;\">\n",
       "      <th></th>\n",
       "      <th>Year</th>\n",
       "      <th>Present_Price</th>\n",
       "      <th>Kms_Driven</th>\n",
       "      <th>Fuel_Type</th>\n",
       "      <th>Seller_Type</th>\n",
       "      <th>Transmission</th>\n",
       "      <th>Owner</th>\n",
       "    </tr>\n",
       "  </thead>\n",
       "  <tbody>\n",
       "    <tr>\n",
       "      <th>0</th>\n",
       "      <td>2014</td>\n",
       "      <td>5.59</td>\n",
       "      <td>27000</td>\n",
       "      <td>1</td>\n",
       "      <td>1</td>\n",
       "      <td>1</td>\n",
       "      <td>0</td>\n",
       "    </tr>\n",
       "    <tr>\n",
       "      <th>1</th>\n",
       "      <td>2013</td>\n",
       "      <td>9.54</td>\n",
       "      <td>43000</td>\n",
       "      <td>2</td>\n",
       "      <td>1</td>\n",
       "      <td>1</td>\n",
       "      <td>0</td>\n",
       "    </tr>\n",
       "    <tr>\n",
       "      <th>2</th>\n",
       "      <td>2017</td>\n",
       "      <td>9.85</td>\n",
       "      <td>6900</td>\n",
       "      <td>1</td>\n",
       "      <td>1</td>\n",
       "      <td>1</td>\n",
       "      <td>0</td>\n",
       "    </tr>\n",
       "    <tr>\n",
       "      <th>3</th>\n",
       "      <td>2011</td>\n",
       "      <td>4.15</td>\n",
       "      <td>5200</td>\n",
       "      <td>1</td>\n",
       "      <td>1</td>\n",
       "      <td>1</td>\n",
       "      <td>0</td>\n",
       "    </tr>\n",
       "    <tr>\n",
       "      <th>4</th>\n",
       "      <td>2014</td>\n",
       "      <td>6.87</td>\n",
       "      <td>42450</td>\n",
       "      <td>2</td>\n",
       "      <td>1</td>\n",
       "      <td>1</td>\n",
       "      <td>0</td>\n",
       "    </tr>\n",
       "  </tbody>\n",
       "</table>\n",
       "</div>"
      ],
      "text/plain": [
       "   Year  Present_Price  Kms_Driven  Fuel_Type  Seller_Type  Transmission  \\\n",
       "0  2014           5.59       27000          1            1             1   \n",
       "1  2013           9.54       43000          2            1             1   \n",
       "2  2017           9.85        6900          1            1             1   \n",
       "3  2011           4.15        5200          1            1             1   \n",
       "4  2014           6.87       42450          2            1             1   \n",
       "\n",
       "   Owner  \n",
       "0      0  \n",
       "1      0  \n",
       "2      0  \n",
       "3      0  \n",
       "4      0  "
      ]
     },
     "execution_count": 44,
     "metadata": {},
     "output_type": "execute_result"
    }
   ],
   "source": [
    "# seperate rows for prediciton \n",
    "df.iloc[[0,1,2,3,4]].drop('Selling_Price',axis=1)"
   ]
  },
  {
   "cell_type": "code",
   "execution_count": 45,
   "id": "e5edc42b",
   "metadata": {},
   "outputs": [],
   "source": [
    "# give values for prediction\n",
    "pred=loaded_model.predict(df.iloc[[0,1,2,3,4]].drop('Selling_Price',axis=1))"
   ]
  },
  {
   "cell_type": "code",
   "execution_count": 46,
   "id": "9d250e0b",
   "metadata": {},
   "outputs": [
    {
     "data": {
      "text/html": [
       "<div>\n",
       "<style scoped>\n",
       "    .dataframe tbody tr th:only-of-type {\n",
       "        vertical-align: middle;\n",
       "    }\n",
       "\n",
       "    .dataframe tbody tr th {\n",
       "        vertical-align: top;\n",
       "    }\n",
       "\n",
       "    .dataframe thead th {\n",
       "        text-align: right;\n",
       "    }\n",
       "</style>\n",
       "<table border=\"1\" class=\"dataframe\">\n",
       "  <thead>\n",
       "    <tr style=\"text-align: right;\">\n",
       "      <th></th>\n",
       "      <th>Actual_values</th>\n",
       "      <th>Model_prediction</th>\n",
       "    </tr>\n",
       "  </thead>\n",
       "  <tbody>\n",
       "    <tr>\n",
       "      <th>0</th>\n",
       "      <td>3.35</td>\n",
       "      <td>4.607306</td>\n",
       "    </tr>\n",
       "    <tr>\n",
       "      <th>1</th>\n",
       "      <td>4.75</td>\n",
       "      <td>4.791638</td>\n",
       "    </tr>\n",
       "    <tr>\n",
       "      <th>2</th>\n",
       "      <td>7.25</td>\n",
       "      <td>7.255084</td>\n",
       "    </tr>\n",
       "    <tr>\n",
       "      <th>3</th>\n",
       "      <td>2.85</td>\n",
       "      <td>2.855132</td>\n",
       "    </tr>\n",
       "    <tr>\n",
       "      <th>4</th>\n",
       "      <td>4.60</td>\n",
       "      <td>4.597877</td>\n",
       "    </tr>\n",
       "  </tbody>\n",
       "</table>\n",
       "</div>"
      ],
      "text/plain": [
       "   Actual_values  Model_prediction\n",
       "0           3.35          4.607306\n",
       "1           4.75          4.791638\n",
       "2           7.25          7.255084\n",
       "3           2.85          2.855132\n",
       "4           4.60          4.597877"
      ]
     },
     "execution_count": 46,
     "metadata": {},
     "output_type": "execute_result"
    }
   ],
   "source": [
    "# Check model accuracy manual way\n",
    "pd.DataFrame({'Actual_values':df['Selling_Price'][0:5],'Model_prediction':pred})"
   ]
  },
  {
   "cell_type": "code",
   "execution_count": null,
   "id": "d947de64",
   "metadata": {},
   "outputs": [],
   "source": []
  }
 ],
 "metadata": {
  "kernelspec": {
   "display_name": "Python 3 (ipykernel)",
   "language": "python",
   "name": "python3"
  },
  "language_info": {
   "codemirror_mode": {
    "name": "ipython",
    "version": 3
   },
   "file_extension": ".py",
   "mimetype": "text/x-python",
   "name": "python",
   "nbconvert_exporter": "python",
   "pygments_lexer": "ipython3",
   "version": "3.9.12"
  }
 },
 "nbformat": 4,
 "nbformat_minor": 5
}
